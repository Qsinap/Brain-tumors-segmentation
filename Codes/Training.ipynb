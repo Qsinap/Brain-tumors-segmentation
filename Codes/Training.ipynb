{
  "nbformat": 4,
  "nbformat_minor": 0,
  "metadata": {
    "colab": {
      "name": "Training.ipynb",
      "provenance": [],
      "collapsed_sections": [],
      "toc_visible": true,
      "machine_shape": "hm"
    },
    "kernelspec": {
      "display_name": "Python 3",
      "name": "python3"
    },
    "accelerator": "GPU"
  },
  "cells": [
    {
      "cell_type": "code",
      "metadata": {
        "id": "siZ0EKiPc-uR",
        "colab": {
          "base_uri": "https://localhost:8080/"
        },
        "outputId": "01dcda94-4b0f-429b-b811-8f982f512c53"
      },
      "source": [
        "from google.colab import drive\r\n",
        "drive.mount('/content/drive')"
      ],
      "execution_count": null,
      "outputs": [
        {
          "output_type": "stream",
          "text": [
            "Mounted at /content/drive\n"
          ],
          "name": "stdout"
        }
      ]
    },
    {
      "cell_type": "markdown",
      "metadata": {
        "id": "oMKMKQpJfAbl"
      },
      "source": [
        "### Preliminaries"
      ]
    },
    {
      "cell_type": "code",
      "metadata": {
        "id": "1pI3zwbZEFWz"
      },
      "source": [
        "%%bash\r\n",
        "pip install keras==2.3.1\r\n",
        "pip install tensorflow==2.2.0\r\n",
        "pip install keras_applications==1.0.8\r\n",
        "pip install image-classifiers==1.0.0\r\n",
        "pip install efficientnet==1.0.0\r\n",
        "pip install keras-unet\r\n",
        "pip install tf-semantic-segmentation\r\n",
        "pip install segmentation-models"
      ],
      "execution_count": null,
      "outputs": []
    },
    {
      "cell_type": "code",
      "metadata": {
        "colab": {
          "base_uri": "https://localhost:8080/"
        },
        "id": "tn47EKX1F-4X",
        "outputId": "17fec78b-d20a-4fd5-819c-a07f8bbb12f5"
      },
      "source": [
        "%env SM_FRAMEWORK=tf.keras"
      ],
      "execution_count": null,
      "outputs": [
        {
          "output_type": "stream",
          "text": [
            "env: SM_FRAMEWORK=tf.keras\n"
          ],
          "name": "stdout"
        }
      ]
    },
    {
      "cell_type": "code",
      "metadata": {
        "id": "GV5A7GNUm9C_"
      },
      "source": [
        "#function ClickConnect(){ console.log(\"Working2\"); document.querySelector(\"colab-toolbar-button#connect\").click() }setInterval(ClickConnect,10000)"
      ],
      "execution_count": null,
      "outputs": []
    },
    {
      "cell_type": "code",
      "metadata": {
        "id": "ebwnEd4clBi5",
        "colab": {
          "base_uri": "https://localhost:8080/"
        },
        "outputId": "a8239f5c-c783-49c0-807e-d916ec02464b"
      },
      "source": [
        "import keras.backend as K\r\n",
        "import numpy as np\r\n",
        "import matplotlib.pyplot as plt\r\n",
        "import glob\r\n",
        "import os\r\n",
        "import math\r\n",
        "from keras.callbacks import ModelCheckpoint, EarlyStopping\r\n",
        "import tensorflow as tf\r\n",
        "import scipy.io as sio\r\n",
        "import pandas as pd\r\n",
        "import time"
      ],
      "execution_count": null,
      "outputs": [
        {
          "output_type": "stream",
          "text": [
            "Using TensorFlow backend.\n"
          ],
          "name": "stderr"
        }
      ]
    },
    {
      "cell_type": "markdown",
      "metadata": {
        "id": "55tedNOjpKja"
      },
      "source": [
        "### Functions"
      ]
    },
    {
      "cell_type": "code",
      "metadata": {
        "id": "mVMRqMnH2DJF"
      },
      "source": [
        "def mean_iou(y_true, y_pred):\r\n",
        "    prec = []\r\n",
        "    for t in np.arange(0.5, 1.0, 0.05):\r\n",
        "        y_pred_ = tf.to_int32(y_pred > t)\r\n",
        "        score, up_opt = tf.metrics.mean_iou(y_true, y_pred_, 2)\r\n",
        "        K.get_session().run(tf.local_variables_initializer())\r\n",
        "        with tf.control_dependencies([up_opt]):\r\n",
        "            score = tf.identity(score)\r\n",
        "        prec.append(score)\r\n",
        "    return K.mean(K.stack(prec), axis=0)"
      ],
      "execution_count": null,
      "outputs": []
    },
    {
      "cell_type": "code",
      "metadata": {
        "id": "zh3MJsjOkHvw"
      },
      "source": [
        "def jaccard_distance(y_true, y_pred, smooth=100):\r\n",
        "    intersection = K.sum(K.abs(y_true * y_pred), axis=-1)\r\n",
        "    sum_ = K.sum(K.abs(y_true) + K.abs(y_pred), axis=-1)\r\n",
        "    jac = (intersection + smooth) / (sum_ - intersection + smooth)\r\n",
        "    return (1 - jac) * smooth"
      ],
      "execution_count": null,
      "outputs": []
    },
    {
      "cell_type": "code",
      "metadata": {
        "id": "TEwMon518eRy"
      },
      "source": [
        "def tversky(y_true, y_pred,  smooth=1.):\r\n",
        "    y_true_pos = K.flatten(y_true)\r\n",
        "    y_pred_pos = K.flatten(y_pred)\r\n",
        "    true_pos = K.sum(y_true_pos * y_pred_pos)\r\n",
        "    false_neg = K.sum(y_true_pos * (1-y_pred_pos))\r\n",
        "    false_pos = K.sum((1-y_true_pos)*y_pred_pos)\r\n",
        "    alpha = 0.7\r\n",
        "    return (true_pos + smooth)/(true_pos + alpha*false_neg + (1-alpha)*false_pos + smooth)"
      ],
      "execution_count": null,
      "outputs": []
    },
    {
      "cell_type": "code",
      "metadata": {
        "id": "-I06sXEE8kPA"
      },
      "source": [
        "def tversky_loss(y_true, y_pred):\r\n",
        "    return 1 - tversky(y_true,y_pred)"
      ],
      "execution_count": null,
      "outputs": []
    },
    {
      "cell_type": "code",
      "metadata": {
        "id": "GSkohoY88hjx"
      },
      "source": [
        "def focal_tversky(y_true,y_pred):\r\n",
        "    pt_1 = tversky(y_true, y_pred)\r\n",
        "    gamma = 0.75\r\n",
        "    return K.pow((1-pt_1), gamma)"
      ],
      "execution_count": null,
      "outputs": []
    },
    {
      "cell_type": "code",
      "metadata": {
        "id": "0pmgYPTs04en"
      },
      "source": [
        "def dice_coef(y_true, y_pred, smooth=1.):\r\n",
        "    y_true_f = K.flatten(y_true)\r\n",
        "    y_pred_f = K.flatten(y_pred)\r\n",
        "    intersection = K.sum(y_true_f * y_pred_f)\r\n",
        "    score = (2. * intersection + smooth) / (K.sum(y_true_f) + K.sum(y_pred_f) + smooth)\r\n",
        "    return score"
      ],
      "execution_count": null,
      "outputs": []
    },
    {
      "cell_type": "code",
      "metadata": {
        "id": "6FtkFnlk9qMK",
        "colab": {
          "base_uri": "https://localhost:8080/",
          "height": 52
        },
        "outputId": "01565fb2-abc1-4067-bd5b-025b7bb86c79"
      },
      "source": [
        "#Versión de tensor\r\n",
        "'''def dice_coef(y_true, y_pred, smooth=1.):\r\n",
        "    intersection = K.sum(K.abs(y_true * y_pred), axis=-1)\r\n",
        "    denom=K.sum(K.square(y_true),-1) + K.sum(K.square(y_pred),-1)\r\n",
        "    return (2. * intersection + smooth) / (denom + smooth)'''"
      ],
      "execution_count": null,
      "outputs": [
        {
          "output_type": "execute_result",
          "data": {
            "application/vnd.google.colaboratory.intrinsic+json": {
              "type": "string"
            },
            "text/plain": [
              "'def dice_coef(y_true, y_pred, smooth=1.):\\n    intersection = K.sum(K.abs(y_true * y_pred), axis=-1)\\n    denom=K.sum(K.square(y_true),-1) + K.sum(K.square(y_pred),-1)\\n    return (2. * intersection + smooth) / (denom + smooth)'"
            ]
          },
          "metadata": {
            "tags": []
          },
          "execution_count": 12
        }
      ]
    },
    {
      "cell_type": "code",
      "metadata": {
        "id": "XW60tpLokOvI"
      },
      "source": [
        "def dice_coef_loss(y_true, y_pred):\r\n",
        "    return 1 - dice_coef(y_true, y_pred)"
      ],
      "execution_count": null,
      "outputs": []
    },
    {
      "cell_type": "code",
      "metadata": {
        "id": "DslVYDxaRMYq"
      },
      "source": [
        "def convert_to_logits(y_pred):\r\n",
        "    y_pred = tf.clip_by_value(y_pred, tf.keras.backend.epsilon(), 1 - tf.keras.backend.epsilon())\r\n",
        "    return tf.math.log(y_pred / (1 - y_pred))"
      ],
      "execution_count": null,
      "outputs": []
    },
    {
      "cell_type": "code",
      "metadata": {
        "id": "311Q33-VQsMj"
      },
      "source": [
        "def weighted_cross_entropyloss(y_true, y_pred, beta = 0.25):\r\n",
        "    y_pred = convert_to_logits(y_pred)\r\n",
        "    pos_weight = beta / (1 - beta)\r\n",
        "    loss = tf.nn.weighted_cross_entropy_with_logits(logits=y_pred, labels=y_true, pos_weight=pos_weight)\r\n",
        "    return tf.reduce_mean(loss)"
      ],
      "execution_count": null,
      "outputs": []
    },
    {
      "cell_type": "code",
      "metadata": {
        "id": "v_P4ll5DceqF"
      },
      "source": [
        "def log_cosh_dice_loss(y_true, y_pred):\r\n",
        "    x = dice_coef_loss(y_true, y_pred)\r\n",
        "    return tf.math.log((tf.exp(x) + tf.exp(-x)) / 2.0)"
      ],
      "execution_count": null,
      "outputs": []
    },
    {
      "cell_type": "code",
      "metadata": {
        "id": "OQioXesOsE6Z"
      },
      "source": [
        "def sensitivity(y_true, y_pred):\r\n",
        "    true_positives = K.sum(K.round(K.clip(y_true * y_pred, 0, 1)))\r\n",
        "    possible_positives = K.sum(K.round(K.clip(y_true, 0, 1)))\r\n",
        "    return true_positives / (possible_positives + K.epsilon())"
      ],
      "execution_count": null,
      "outputs": []
    },
    {
      "cell_type": "code",
      "metadata": {
        "id": "Pob1St_1sHAh"
      },
      "source": [
        "def specificity(y_true, y_pred):\r\n",
        "    true_negatives = K.sum(K.round(K.clip((1 - y_true) * (1 - y_pred), 0, 1)))\r\n",
        "    possible_negatives = K.sum(K.round(K.clip(1 - y_true, 0, 1)))\r\n",
        "    return true_negatives / (possible_negatives + K.epsilon())"
      ],
      "execution_count": null,
      "outputs": []
    },
    {
      "cell_type": "code",
      "metadata": {
        "id": "3Bqcb8TV_w0Y"
      },
      "source": [
        "def false_positive_rate(y_true, y_pred):\r\n",
        "    return 1-specificity(y_true, y_pred)"
      ],
      "execution_count": null,
      "outputs": []
    },
    {
      "cell_type": "code",
      "metadata": {
        "id": "qw5n7zu2a1t8"
      },
      "source": [
        "losses={'binary_crossentropy': 'binary_crossentropy', 'dice_coef_loss': dice_coef_loss, 'weighted_cross_entropyloss': weighted_cross_entropyloss, 'tversky_loss': tversky_loss, 'log_cosh_dice_loss': log_cosh_dice_loss}\r\n",
        "n_losses=['binary_crossentropy', 'dice_coef_loss', 'weighted_cross_entropyloss', 'tversky_loss', 'log_cosh_dice_loss']"
      ],
      "execution_count": null,
      "outputs": []
    },
    {
      "cell_type": "code",
      "metadata": {
        "id": "BGxqe0o1nnCp"
      },
      "source": [
        "def plot_t(his_m, mtc='acc', name='none'):\r\n",
        "  plt.figure(figsize=(15,5))\r\n",
        "  plt.subplot(1,2,1)\r\n",
        "  plt.plot(his_m.history[mtc])\r\n",
        "  plt.plot(his_m.history['val_'+mtc])\r\n",
        "  plt.title(mtc)\r\n",
        "  plt.ylabel(mtc)\r\n",
        "  plt.xlabel('epoch')\r\n",
        "  plt.legend(['train', 'test'], loc='upper left')\r\n",
        "\r\n",
        "  plt.subplot(1,2,2)\r\n",
        "  plt.plot(his_m.history['loss'])\r\n",
        "  plt.plot(his_m.history['val_loss'])\r\n",
        "  plt.title('model loss')\r\n",
        "  plt.ylabel('value')\r\n",
        "  plt.xlabel('epoch')\r\n",
        "  plt.legend(['train', 'test'], loc='upper left')\r\n",
        "\r\n",
        "  if not name=='none':\r\n",
        "    plt.savefig(name)"
      ],
      "execution_count": null,
      "outputs": []
    },
    {
      "cell_type": "code",
      "metadata": {
        "id": "LB2agWnJrF66"
      },
      "source": [
        "def plot_image_mask(ima, mas,  name='none'):\r\n",
        "  plt.figure(figsize=(10,5))\r\n",
        "  plt.subplot(1,2,1)\r\n",
        "  plt.imshow(ima, cmap='inferno')\r\n",
        "  plt.title('Image')\r\n",
        "  plt.axis('off')\r\n",
        "\r\n",
        "  plt.subplot(1,2,2)\r\n",
        "  plt.imshow(mas, cmap='gray')\r\n",
        "  plt.title('Mask')\r\n",
        "  plt.axis('off')\r\n",
        "\r\n",
        "  if not name=='none':\r\n",
        "    plt.savefig(name)"
      ],
      "execution_count": null,
      "outputs": []
    },
    {
      "cell_type": "code",
      "metadata": {
        "id": "0rLmNUyhIW3F"
      },
      "source": [
        "def three_plot(ori, s_predi, s_real, name='none'):\r\n",
        "  plt.figure(figsize=(15,5))\r\n",
        "  plt.subplot(1,3,1)\r\n",
        "  plt.imshow(ori, cmap='inferno')\r\n",
        "  plt.title('Original Image')\r\n",
        "  plt.axis('off')\r\n",
        "\r\n",
        "  plt.subplot(1,3,2)\r\n",
        "  plt.imshow(s_predi, cmap='hot')\r\n",
        "  plt.title('predicted segmentation')\r\n",
        "  plt.axis('off')\r\n",
        "\r\n",
        "  plt.subplot(1,3,3)\r\n",
        "  plt.imshow(s_real, cmap='gray')\r\n",
        "  plt.title('real segmentation')\r\n",
        "  plt.axis('off')\r\n",
        "\r\n",
        "  if not name=='none':\r\n",
        "    plt.savefig(name)"
      ],
      "execution_count": null,
      "outputs": []
    },
    {
      "cell_type": "code",
      "metadata": {
        "id": "JMlu9HNKsY7b"
      },
      "source": [
        "from keras.layers import Input, Conv2D, MaxPooling2D, Conv2DTranspose, concatenate, BatchNormalization, Activation, add\r\n",
        "from keras.models import Model, model_from_json\r\n",
        "from keras.optimizers import Adam\r\n",
        "from keras.layers.advanced_activations import ELU, LeakyReLU\r\n",
        "from keras.utils.vis_utils import plot_model\r\n",
        "\r\n",
        "def conv2d_bn(x, filters, num_row, num_col, padding='same', strides=(1, 1), activation='relu', name=None):\r\n",
        "    '''\r\n",
        "    2D Convolutional layers\r\n",
        "    \r\n",
        "    Arguments:\r\n",
        "        x {keras layer} -- input layer \r\n",
        "        filters {int} -- number of filters\r\n",
        "        num_row {int} -- number of rows in filters\r\n",
        "        num_col {int} -- number of columns in filters\r\n",
        "    \r\n",
        "    Keyword Arguments:\r\n",
        "        padding {str} -- mode of padding (default: {'same'})\r\n",
        "        strides {tuple} -- stride of convolution operation (default: {(1, 1)})\r\n",
        "        activation {str} -- activation function (default: {'relu'})\r\n",
        "        name {str} -- name of the layer (default: {None})\r\n",
        "    \r\n",
        "    Returns:\r\n",
        "        [keras layer] -- [output layer]\r\n",
        "    '''\r\n",
        "\r\n",
        "    x = Conv2D(filters, (num_row, num_col), strides=strides, padding=padding, use_bias=False)(x)\r\n",
        "    x = BatchNormalization(axis=3, scale=False)(x)\r\n",
        "\r\n",
        "    if(activation == None):\r\n",
        "        return x\r\n",
        "\r\n",
        "    x = Activation(activation, name=name)(x)\r\n",
        "\r\n",
        "    return x\r\n",
        "\r\n",
        "\r\n",
        "def trans_conv2d_bn(x, filters, num_row, num_col, padding='same', strides=(2, 2), name=None):\r\n",
        "    '''\r\n",
        "    2D Transposed Convolutional layers\r\n",
        "    \r\n",
        "    Arguments:\r\n",
        "        x {keras layer} -- input layer \r\n",
        "        filters {int} -- number of filters\r\n",
        "        num_row {int} -- number of rows in filters\r\n",
        "        num_col {int} -- number of columns in filters\r\n",
        "    \r\n",
        "    Keyword Arguments:\r\n",
        "        padding {str} -- mode of padding (default: {'same'})\r\n",
        "        strides {tuple} -- stride of convolution operation (default: {(2, 2)})\r\n",
        "        name {str} -- name of the layer (default: {None})\r\n",
        "    \r\n",
        "    Returns:\r\n",
        "        [keras layer] -- [output layer]\r\n",
        "    '''\r\n",
        "\r\n",
        "    x = Conv2DTranspose(filters, (num_row, num_col), strides=strides, padding=padding)(x)\r\n",
        "    x = BatchNormalization(axis=3, scale=False)(x)\r\n",
        "    \r\n",
        "    return x\r\n",
        "\r\n",
        "\r\n",
        "def MultiResBlock(U, inp, alpha = 1.67):\r\n",
        "    '''\r\n",
        "    MultiRes Block\r\n",
        "    \r\n",
        "    Arguments:\r\n",
        "        U {int} -- Number of filters in a corrsponding UNet stage\r\n",
        "        inp {keras layer} -- input layer \r\n",
        "    \r\n",
        "    Returns:\r\n",
        "        [keras layer] -- [output layer]\r\n",
        "    '''\r\n",
        "\r\n",
        "    W = alpha * U\r\n",
        "\r\n",
        "    shortcut = inp\r\n",
        "\r\n",
        "    shortcut = conv2d_bn(shortcut, int(W*0.167) + int(W*0.333) +\r\n",
        "                         int(W*0.5), 1, 1, activation=None, padding='same')\r\n",
        "\r\n",
        "    conv3x3 = conv2d_bn(inp, int(W*0.167), 3, 3,\r\n",
        "                        activation='relu', padding='same')\r\n",
        "\r\n",
        "    conv5x5 = conv2d_bn(conv3x3, int(W*0.333), 3, 3,\r\n",
        "                        activation='relu', padding='same')\r\n",
        "\r\n",
        "    conv7x7 = conv2d_bn(conv5x5, int(W*0.5), 3, 3,\r\n",
        "                        activation='relu', padding='same')\r\n",
        "\r\n",
        "    out = concatenate([conv3x3, conv5x5, conv7x7], axis=3)\r\n",
        "    out = BatchNormalization(axis=3)(out)\r\n",
        "\r\n",
        "    out = add([shortcut, out])\r\n",
        "    out = Activation('relu')(out)\r\n",
        "    out = BatchNormalization(axis=3)(out)\r\n",
        "\r\n",
        "    return out\r\n",
        "\r\n",
        "\r\n",
        "def ResPath(filters, length, inp):\r\n",
        "    '''\r\n",
        "    ResPath\r\n",
        "    \r\n",
        "    Arguments:\r\n",
        "        filters {int} -- [description]\r\n",
        "        length {int} -- length of ResPath\r\n",
        "        inp {keras layer} -- input layer \r\n",
        "    \r\n",
        "    Returns:\r\n",
        "        [keras layer] -- [output layer]\r\n",
        "    '''\r\n",
        "\r\n",
        "\r\n",
        "    shortcut = inp\r\n",
        "    shortcut = conv2d_bn(shortcut, filters, 1, 1,\r\n",
        "                         activation=None, padding='same')\r\n",
        "\r\n",
        "    out = conv2d_bn(inp, filters, 3, 3, activation='relu', padding='same')\r\n",
        "\r\n",
        "    out = add([shortcut, out])\r\n",
        "    out = Activation('relu')(out)\r\n",
        "    out = BatchNormalization(axis=3)(out)\r\n",
        "\r\n",
        "    for i in range(length-1):\r\n",
        "\r\n",
        "        shortcut = out\r\n",
        "        shortcut = conv2d_bn(shortcut, filters, 1, 1,\r\n",
        "                             activation=None, padding='same')\r\n",
        "\r\n",
        "        out = conv2d_bn(out, filters, 3, 3, activation='relu', padding='same')\r\n",
        "\r\n",
        "        out = add([shortcut, out])\r\n",
        "        out = Activation('relu')(out)\r\n",
        "        out = BatchNormalization(axis=3)(out)\r\n",
        "\r\n",
        "    return out\r\n",
        "\r\n",
        "\r\n",
        "def MultiResUnet(height, width, n_channels):\r\n",
        "    '''\r\n",
        "    MultiResUNet\r\n",
        "    \r\n",
        "    Arguments:\r\n",
        "        height {int} -- height of image \r\n",
        "        width {int} -- width of image \r\n",
        "        n_channels {int} -- number of channels in image\r\n",
        "    \r\n",
        "    Returns:\r\n",
        "        [keras model] -- MultiResUNet model\r\n",
        "    '''\r\n",
        "\r\n",
        "\r\n",
        "    inputs = Input((height, width, n_channels))\r\n",
        "\r\n",
        "    mresblock1 = MultiResBlock(32, inputs)\r\n",
        "    pool1 = MaxPooling2D(pool_size=(2, 2))(mresblock1)\r\n",
        "    mresblock1 = ResPath(32, 4, mresblock1)\r\n",
        "\r\n",
        "    mresblock2 = MultiResBlock(32*2, pool1)\r\n",
        "    pool2 = MaxPooling2D(pool_size=(2, 2))(mresblock2)\r\n",
        "    mresblock2 = ResPath(32*2, 3, mresblock2)\r\n",
        "\r\n",
        "    mresblock3 = MultiResBlock(32*4, pool2)\r\n",
        "    pool3 = MaxPooling2D(pool_size=(2, 2))(mresblock3)\r\n",
        "    mresblock3 = ResPath(32*4, 2, mresblock3)\r\n",
        "\r\n",
        "    mresblock4 = MultiResBlock(32*8, pool3)\r\n",
        "    pool4 = MaxPooling2D(pool_size=(2, 2))(mresblock4)\r\n",
        "    mresblock4 = ResPath(32*8, 1, mresblock4)\r\n",
        "\r\n",
        "    mresblock5 = MultiResBlock(32*16, pool4)\r\n",
        "\r\n",
        "    up6 = concatenate([Conv2DTranspose(\r\n",
        "        32*8, (2, 2), strides=(2, 2), padding='same')(mresblock5), mresblock4], axis=3)\r\n",
        "    mresblock6 = MultiResBlock(32*8, up6)\r\n",
        "\r\n",
        "    up7 = concatenate([Conv2DTranspose(\r\n",
        "        32*4, (2, 2), strides=(2, 2), padding='same')(mresblock6), mresblock3], axis=3)\r\n",
        "    mresblock7 = MultiResBlock(32*4, up7)\r\n",
        "\r\n",
        "    up8 = concatenate([Conv2DTranspose(\r\n",
        "        32*2, (2, 2), strides=(2, 2), padding='same')(mresblock7), mresblock2], axis=3)\r\n",
        "    mresblock8 = MultiResBlock(32*2, up8)\r\n",
        "\r\n",
        "    up9 = concatenate([Conv2DTranspose(32, (2, 2), strides=(\r\n",
        "        2, 2), padding='same')(mresblock8), mresblock1], axis=3)\r\n",
        "    mresblock9 = MultiResBlock(32, up9)\r\n",
        "\r\n",
        "    conv10 = conv2d_bn(mresblock9, 1, 1, 1, activation='sigmoid')\r\n",
        "    \r\n",
        "    model = Model(inputs=[inputs], outputs=[conv10])\r\n",
        "\r\n",
        "    return model"
      ],
      "execution_count": null,
      "outputs": []
    },
    {
      "cell_type": "code",
      "metadata": {
        "id": "lOuoDipqLRFJ",
        "colab": {
          "base_uri": "https://localhost:8080/"
        },
        "outputId": "c7a0ce16-0b96-4b27-961b-3b91ebb53cce"
      },
      "source": [
        "from keras_unet.models import custom_unet\r\n",
        "from segmentation_models import Unet, Linknet, FPN, PSPNet\r\n",
        "\r\n",
        "def read_model(net, inputshape=(256,256,3)):\r\n",
        "  not_p=True\r\n",
        "  if net=='unet_cus':\r\n",
        "    model = custom_unet((256,256,3), use_batch_norm=True)\r\n",
        "    not_p=False\r\n",
        "  \r\n",
        "  if net=='multiresunet':\r\n",
        "    model=MultiResUnet(256,256,3)\r\n",
        "    not_p=False\r\n",
        "\r\n",
        "  if net=='mobileNet':\r\n",
        "    model=Unet('mobilenet', inputshape, 1)\r\n",
        "    not_p=False\r\n",
        "\r\n",
        "  if net=='unetVgg16':\r\n",
        "    model=Unet('vgg16', inputshape, 1)\r\n",
        "    not_p=False\r\n",
        "  \r\n",
        "  if net=='linknet':\r\n",
        "    model=Linknet('efficientnetb5', inputshape)\r\n",
        "    not_p=False\r\n",
        "\r\n",
        "  if net=='densenet201':\r\n",
        "    model=Unet('densenet201',inputshape,1)\r\n",
        "    not_p=False\r\n",
        "\r\n",
        "  if net=='inceptionresnetv2':\r\n",
        "    model=Unet('inceptionresnetv2',inputshape,1)\r\n",
        "    not_p=False \r\n",
        "\r\n",
        "  if not_p:\r\n",
        "    print('Network name does not exist')\r\n",
        "\r\n",
        "  return model"
      ],
      "execution_count": null,
      "outputs": [
        {
          "output_type": "stream",
          "text": [
            "-----------------------------------------\n",
            "keras-unet init: TF version is >= 2.0.0 - using `tf.keras` instead of `Keras`\n",
            "-----------------------------------------\n",
            "Segmentation Models: using `tf.keras` framework.\n"
          ],
          "name": "stdout"
        }
      ]
    },
    {
      "cell_type": "markdown",
      "metadata": {
        "id": "ZZ3IPECWpaBC"
      },
      "source": [
        "### Data and Folders"
      ]
    },
    {
      "cell_type": "code",
      "metadata": {
        "id": "UCFXVaavpYzC"
      },
      "source": [
        "path=\"/content/drive/MyDrive/INDIGO_MLR/TumoresCerebrales/\"\r\n",
        "pathW=path+'Weights/'\r\n",
        "figures=path+'Figures/'"
      ],
      "execution_count": null,
      "outputs": []
    },
    {
      "cell_type": "code",
      "metadata": {
        "id": "85bNLR92qBNe",
        "colab": {
          "base_uri": "https://localhost:8080/"
        },
        "outputId": "2d3c1863-70e3-42ce-9558-3a4f2ae638a6"
      },
      "source": [
        "mats=glob.glob(path+'*.mat')\r\n",
        "print(np.shape(mats))"
      ],
      "execution_count": null,
      "outputs": [
        {
          "output_type": "stream",
          "text": [
            "(7,)\n"
          ],
          "name": "stdout"
        }
      ]
    },
    {
      "cell_type": "code",
      "metadata": {
        "id": "R10T6Y7BsDsD"
      },
      "source": [
        "images=[]\r\n",
        "masks=[]\r\n",
        "labels=[]\r\n",
        "\r\n",
        "for n, i in enumerate(mats):\r\n",
        "  data=sio.loadmat(i)\r\n",
        "  n_sub,rows,cols=np.shape(data['images'])\r\n",
        "  labels=np.append(labels,data['labels'][0])\r\n",
        "  ima=np.array(data['images'], np.dtype('float32')).reshape((n_sub,rows,cols,1))\r\n",
        "  mks=np.array(data['masks'], np.dtype('float32')).reshape((n_sub,rows,cols,1))\r\n",
        "  if n==0:   \r\n",
        "    images=ima\r\n",
        "    masks=mks\r\n",
        "  else:\r\n",
        "    images=np.concatenate((images,ima))\r\n",
        "    masks=np.concatenate((masks,mks))"
      ],
      "execution_count": null,
      "outputs": []
    },
    {
      "cell_type": "markdown",
      "metadata": {
        "id": "uzH5QzpA6aOC"
      },
      "source": [
        "### Select tumor cancer type (and randomize)"
      ]
    },
    {
      "cell_type": "code",
      "metadata": {
        "id": "aw1NWN5W8vvA"
      },
      "source": [
        "tumor_t=1\r\n",
        "\r\n",
        "if tumor_t==0:\r\n",
        "  imagest=images\r\n",
        "  maskst=masks\r\n",
        "else:\r\n",
        "  tumor=np.where(labels==tumor_t)[0]\r\n",
        "  imagest=images[tumor]\r\n",
        "  maskst=masks[tumor]"
      ],
      "execution_count": null,
      "outputs": []
    },
    {
      "cell_type": "code",
      "metadata": {
        "id": "0JB-Bqkd1Pou"
      },
      "source": [
        "#imagest=tf.image.resize(imagest, [480,480], method='nearest')\r\n",
        "#maskst=tf.image.resize(masks, [480,480], method='nearest')"
      ],
      "execution_count": null,
      "outputs": []
    },
    {
      "cell_type": "code",
      "metadata": {
        "id": "Ff4Udf16kZNt"
      },
      "source": [
        "d_size=np.shape(imagest)[0]\r\n",
        "indx=np.random.choice(d_size, d_size, replace=False)\r\n",
        "\r\n",
        "imagest=np.array(imagest)[indx]\r\n",
        "maskst=np.array(maskst)[indx]"
      ],
      "execution_count": null,
      "outputs": []
    },
    {
      "cell_type": "code",
      "metadata": {
        "id": "-icnJvMuqVF7",
        "colab": {
          "base_uri": "https://localhost:8080/",
          "height": 318
        },
        "outputId": "87f7df72-8988-49a4-9482-4dc292514d90"
      },
      "source": [
        "print(np.shape(imagest), np.shape(maskst))\r\n",
        "n_sub=np.shape(imagest)[0]\r\n",
        "ind=np.random.choice(n_sub)\r\n",
        "plot_image_mask(imagest[ind,:,:,0], maskst[ind,:,:,0])"
      ],
      "execution_count": null,
      "outputs": [
        {
          "output_type": "stream",
          "text": [
            "(708, 512, 512, 1) (708, 512, 512, 1)\n"
          ],
          "name": "stdout"
        },
        {
          "output_type": "display_data",
          "data": {
            "image/png": "[encoded data removed]",
            "text/plain": [
              "<Figure size 720x360 with 2 Axes>"
            ]
          },
          "metadata": {
            "tags": [],
            "needs_background": "light"
          }
        }
      ]
    },
    {
      "cell_type": "markdown",
      "metadata": {
        "id": "Bc6NvHkcrO3G"
      },
      "source": [
        "### Split data"
      ]
    },
    {
      "cell_type": "markdown",
      "metadata": {
        "id": "vTMkQsAXZsBu"
      },
      "source": [
        "### Gray to RGB"
      ]
    },
    {
      "cell_type": "code",
      "metadata": {
        "id": "oP20aP0grlCg"
      },
      "source": [
        "shap=np.shape(imagest)\r\n",
        "imagesRGB=np.zeros((shap[0], shap[1], shap[2], 3))\r\n",
        "imagesRGB[...,0]=imagesRGB[...,1]=imagesRGB[...,2]=imagest[...,0]\r\n",
        "imagest=imagesRGB"
      ],
      "execution_count": null,
      "outputs": []
    },
    {
      "cell_type": "code",
      "metadata": {
        "id": "ri--MwjkrXUF"
      },
      "source": [
        "sp=int(n_sub*0.8)\r\n",
        "sp2=int(sp*0.8)\r\n",
        "\r\n",
        "x_test=imagest[sp:]; x_train=imagest[:sp2]; x_val=imagest[sp2:sp]\r\n",
        "y_test=maskst[sp:]; y_train=maskst[:sp2]; y_val=maskst[sp2:sp]"
      ],
      "execution_count": null,
      "outputs": []
    },
    {
      "cell_type": "code",
      "metadata": {
        "id": "sa2PVHznTH9O",
        "colab": {
          "base_uri": "https://localhost:8080/"
        },
        "outputId": "cc037d33-16fe-4109-d752-556b837a36b6"
      },
      "source": [
        "print(np.shape(x_test), np.shape(x_train), np.shape(x_val))"
      ],
      "execution_count": null,
      "outputs": [
        {
          "output_type": "stream",
          "text": [
            "(142, 512, 512, 3) (452, 512, 512, 3) (114, 512, 512, 3)\n"
          ],
          "name": "stdout"
        }
      ]
    },
    {
      "cell_type": "markdown",
      "metadata": {
        "id": "xqQ83NkOqU0H"
      },
      "source": [
        "### Data frame"
      ]
    },
    {
      "cell_type": "code",
      "metadata": {
        "id": "kGrXUCuzqbf2",
        "colab": {
          "base_uri": "https://localhost:8080/",
          "height": 49
        },
        "outputId": "fcc45b9a-e4c2-4e37-bd92-0921a2defa1e"
      },
      "source": [
        "df = pd.DataFrame(columns=('tumor_type','run_n', 'network', 'optimizer', 'loss', 'epochs', 'total_parameters', 'time','augm', 'jaccard_distances', 'acc','sensitivity','specificity','FPR','dice_coef', 'result_mat'))\r\n",
        "df.head()"
      ],
      "execution_count": null,
      "outputs": [
        {
          "output_type": "execute_result",
          "data": {
            "text/html": [
              "<div>\n",
              "<style scoped>\n",
              "    .dataframe tbody tr th:only-of-type {\n",
              "        vertical-align: middle;\n",
              "    }\n",
              "\n",
              "    .dataframe tbody tr th {\n",
              "        vertical-align: top;\n",
              "    }\n",
              "\n",
              "    .dataframe thead th {\n",
              "        text-align: right;\n",
              "    }\n",
              "</style>\n",
              "<table border=\"1\" class=\"dataframe\">\n",
              "  <thead>\n",
              "    <tr style=\"text-align: right;\">\n",
              "      <th></th>\n",
              "      <th>tumor_type</th>\n",
              "      <th>run_n</th>\n",
              "      <th>network</th>\n",
              "      <th>optimizer</th>\n",
              "      <th>loss</th>\n",
              "      <th>epochs</th>\n",
              "      <th>total_parameters</th>\n",
              "      <th>time</th>\n",
              "      <th>augm</th>\n",
              "      <th>jaccard_distances</th>\n",
              "      <th>acc</th>\n",
              "      <th>sensitivity</th>\n",
              "      <th>specificity</th>\n",
              "      <th>FPR</th>\n",
              "      <th>dice_coef</th>\n",
              "      <th>result_mat</th>\n",
              "    </tr>\n",
              "  </thead>\n",
              "  <tbody>\n",
              "  </tbody>\n",
              "</table>\n",
              "</div>"
            ],
            "text/plain": [
              "Empty DataFrame\n",
              "Columns: [tumor_type, run_n, network, optimizer, loss, epochs, total_parameters, time, augm, jaccard_distances, acc, sensitivity, specificity, FPR, dice_coef, result_mat]\n",
              "Index: []"
            ]
          },
          "metadata": {
            "tags": []
          },
          "execution_count": 35
        }
      ]
    },
    {
      "cell_type": "code",
      "metadata": {
        "id": "HcKqcy6T3et1"
      },
      "source": [
        "del mats, images, imagest, masks, maskst, n, i, rows, cols, ima, mks, n_sub, data, tumor, d_size, ind, indx"
      ],
      "execution_count": null,
      "outputs": []
    },
    {
      "cell_type": "markdown",
      "metadata": {
        "id": "Hij_s2wqpSvh"
      },
      "source": [
        "### Training Model and save data"
      ]
    },
    {
      "cell_type": "code",
      "metadata": {
        "id": "HqT0Knw9drKV",
        "colab": {
          "base_uri": "https://localhost:8080/"
        },
        "outputId": "e9fc6811-1097-42db-d8a7-bcd8d92a4d1b"
      },
      "source": [
        "from IPython.display import clear_output\r\n",
        "\r\n",
        "epochs=100\r\n",
        "optimizer='Adam'\r\n",
        "augmentation='none'\r\n",
        "\r\n",
        "network='linknet'\r\n",
        "\r\n",
        "name_0='_'.join(['f_cancer_'+str(tumor_t),network,optimizer])\r\n",
        "\r\n",
        "if not os.path.exists(path+name_0+'.csv'):\r\n",
        "  df.to_csv(path+name_0+'.csv')\r\n",
        "\r\n",
        "for i in range(2,5):\r\n",
        "  for j in n_losses:\r\n",
        "    cntn=True\r\n",
        "    tic = time.time()\r\n",
        "    name_m='_'.join([name_0,j,'run',str(i)])  \r\n",
        "    print(name_m)\r\n",
        "\r\n",
        "    try:\r\n",
        "      del model\r\n",
        "    except:\r\n",
        "      print('done')\r\n",
        "\r\n",
        "    model=read_model(network)\r\n",
        "    model.compile(optimizer=optimizer, loss=losses[j], metrics=['acc', jaccard_distance, dice_coef])\r\n",
        "\r\n",
        "    ES = EarlyStopping(patience=10, min_delta=0.00001, restore_best_weights=True)\r\n",
        "    MCP = ModelCheckpoint(filepath=pathW+name_m+'_w.hdf5', save_best_only=True, save_weights_only=True)\r\n",
        "    \r\n",
        "    try:\r\n",
        "      results = model.fit(x_train, y_train, validation_data=(x_val, y_val), batch_size=4, epochs=epochs)\r\n",
        "      model.save_weights(pathW+name_m+\"w.h5\")\r\n",
        "    except:\r\n",
        "      print('Training error')\r\n",
        "      cntn=False\r\n",
        "\r\n",
        "    if cntn:\r\n",
        "      sio.savemat(pathW+name_m+'_r.mat', results.history)\r\n",
        "\r\n",
        "      #Validation\r\n",
        "      \r\n",
        "      y_hat=model.predict(x_test)\r\n",
        "\r\n",
        "      acc=np.mean((y_test>0.5)==(y_hat>0.5))\r\n",
        "      jxd=np.mean(jaccard_distance(y_test, y_hat))\r\n",
        "      dic=np.mean(dice_coef(y_test, y_hat))\r\n",
        "      sensi=float(sensitivity(y_test, y_hat))\r\n",
        "      speci=float(specificity(y_test, y_hat))\r\n",
        "      total_p=model.count_params()\r\n",
        "      toc=time.time()-tic\r\n",
        "\r\n",
        "      #data frame\r\n",
        "      df2=pd.read_csv(path+name_0+'.csv')\r\n",
        "      df2=df2.append({'tumor_type': tumor_t,\r\n",
        "                    'run_n': i,\r\n",
        "                    'network': network,\r\n",
        "                    'optimizer': optimizer,\r\n",
        "                    'loss': j,\r\n",
        "                    'epochs': epochs,\r\n",
        "                    'total_parameters': total_p,\r\n",
        "                    'time': toc,'augm': augmentation,\r\n",
        "                    'jaccard_distances': jxd,\r\n",
        "                    'acc': acc,\r\n",
        "                    'sensitivity': sensi,\r\n",
        "                    'specificity': speci,\r\n",
        "                    'FPR': 1-speci,\r\n",
        "                    'dice_coef': dic,\r\n",
        "                    'result_mat': name_m+'_r.mat'} , ignore_index=True)\r\n",
        "      \r\n",
        "      df2.to_csv(path+name_0+'.csv')\r\n",
        "      clear_output(wait=True)"
      ],
      "execution_count": null,
      "outputs": [
        {
          "output_type": "stream",
          "text": [
            "f_cancer_1_linknet_Adam_log_cosh_dice_loss_run_2\n",
            "Epoch 1/100\n",
            "113/113 [==============================] - 49s 429ms/step - loss: 0.1056 - acc: 0.9769 - jaccard_distance: 0.0500 - dice_coef: 0.6080 - val_loss: 0.2399 - val_acc: 0.9685 - val_jaccard_distance: 0.0754 - val_dice_coef: 0.2818\n",
            "Epoch 2/100\n",
            "113/113 [==============================] - 46s 403ms/step - loss: 0.0077 - acc: 0.9969 - jaccard_distance: 0.0038 - dice_coef: 0.8881 - val_loss: 0.0130 - val_acc: 0.9960 - val_jaccard_distance: 0.0052 - val_dice_coef: 0.8487\n",
            "Epoch 3/100\n",
            "113/113 [==============================] - 46s 405ms/step - loss: 0.0041 - acc: 0.9976 - jaccard_distance: 0.0028 - dice_coef: 0.9176 - val_loss: 0.0087 - val_acc: 0.9960 - val_jaccard_distance: 0.0044 - val_dice_coef: 0.8872\n",
            "Epoch 4/100\n",
            "113/113 [==============================] - 44s 394ms/step - loss: 0.0044 - acc: 0.9975 - jaccard_distance: 0.0028 - dice_coef: 0.9168 - val_loss: 0.0067 - val_acc: 0.9964 - val_jaccard_distance: 0.0041 - val_dice_coef: 0.8887\n",
            "Epoch 5/100\n",
            "113/113 [==============================] - 46s 404ms/step - loss: 0.0027 - acc: 0.9980 - jaccard_distance: 0.0022 - dice_coef: 0.9351 - val_loss: 0.0032 - val_acc: 0.9977 - val_jaccard_distance: 0.0026 - val_dice_coef: 0.9263\n",
            "Epoch 6/100\n",
            "113/113 [==============================] - 45s 400ms/step - loss: 0.0082 - acc: 0.9965 - jaccard_distance: 0.0036 - dice_coef: 0.8924 - val_loss: 0.0230 - val_acc: 0.9916 - val_jaccard_distance: 0.0083 - val_dice_coef: 0.7907\n",
            "Epoch 7/100\n",
            "113/113 [==============================] - 46s 407ms/step - loss: 0.0038 - acc: 0.9975 - jaccard_distance: 0.0026 - dice_coef: 0.9218 - val_loss: 0.0025 - val_acc: 0.9978 - val_jaccard_distance: 0.0022 - val_dice_coef: 0.9350\n",
            "Epoch 8/100\n",
            "113/113 [==============================] - 45s 398ms/step - loss: 0.0023 - acc: 0.9981 - jaccard_distance: 0.0020 - dice_coef: 0.9394 - val_loss: 0.0022 - val_acc: 0.9980 - val_jaccard_distance: 0.0021 - val_dice_coef: 0.9395\n",
            "Epoch 9/100\n",
            "113/113 [==============================] - 46s 406ms/step - loss: 0.0017 - acc: 0.9983 - jaccard_distance: 0.0018 - dice_coef: 0.9464 - val_loss: 0.0018 - val_acc: 0.9982 - val_jaccard_distance: 0.0019 - val_dice_coef: 0.9453\n",
            "Epoch 10/100\n",
            "113/113 [==============================] - 46s 405ms/step - loss: 0.0018 - acc: 0.9983 - jaccard_distance: 0.0018 - dice_coef: 0.9472 - val_loss: 0.0022 - val_acc: 0.9980 - val_jaccard_distance: 0.0020 - val_dice_coef: 0.9401\n",
            "Epoch 11/100\n",
            "113/113 [==============================] - 45s 401ms/step - loss: 0.0015 - acc: 0.9983 - jaccard_distance: 0.0017 - dice_coef: 0.9492 - val_loss: 0.0018 - val_acc: 0.9982 - val_jaccard_distance: 0.0019 - val_dice_coef: 0.9454\n",
            "Epoch 12/100\n",
            "113/113 [==============================] - 45s 396ms/step - loss: 0.0014 - acc: 0.9984 - jaccard_distance: 0.0016 - dice_coef: 0.9527 - val_loss: 0.0017 - val_acc: 0.9982 - val_jaccard_distance: 0.0019 - val_dice_coef: 0.9471\n",
            "Epoch 13/100\n",
            "113/113 [==============================] - 45s 401ms/step - loss: 0.0011 - acc: 0.9985 - jaccard_distance: 0.0015 - dice_coef: 0.9558 - val_loss: 0.0016 - val_acc: 0.9982 - val_jaccard_distance: 0.0018 - val_dice_coef: 0.9480\n",
            "Epoch 14/100\n",
            "113/113 [==============================] - 45s 396ms/step - loss: 0.0010 - acc: 0.9986 - jaccard_distance: 0.0015 - dice_coef: 0.9572 - val_loss: 0.0017 - val_acc: 0.9982 - val_jaccard_distance: 0.0018 - val_dice_coef: 0.9480\n",
            "Epoch 15/100\n",
            "113/113 [==============================] - 45s 396ms/step - loss: 9.6703e-04 - acc: 0.9986 - jaccard_distance: 0.0014 - dice_coef: 0.9590 - val_loss: 0.0020 - val_acc: 0.9980 - val_jaccard_distance: 0.0021 - val_dice_coef: 0.9423\n",
            "Epoch 16/100\n",
            "113/113 [==============================] - 45s 398ms/step - loss: 0.0010 - acc: 0.9987 - jaccard_distance: 0.0014 - dice_coef: 0.9593 - val_loss: 0.0018 - val_acc: 0.9981 - val_jaccard_distance: 0.0019 - val_dice_coef: 0.9455\n",
            "Epoch 17/100\n",
            "113/113 [==============================] - 45s 399ms/step - loss: 0.0011 - acc: 0.9987 - jaccard_distance: 0.0013 - dice_coef: 0.9598 - val_loss: 0.0025 - val_acc: 0.9976 - val_jaccard_distance: 0.0024 - val_dice_coef: 0.9334\n",
            "Epoch 18/100\n",
            "113/113 [==============================] - 45s 401ms/step - loss: 0.0064 - acc: 0.9968 - jaccard_distance: 0.0032 - dice_coef: 0.9037 - val_loss: 0.1994 - val_acc: 0.9629 - val_jaccard_distance: 0.0377 - val_dice_coef: 0.3523\n",
            "Epoch 19/100\n",
            "113/113 [==============================] - 46s 407ms/step - loss: 0.0069 - acc: 0.9964 - jaccard_distance: 0.0036 - dice_coef: 0.8956 - val_loss: 0.0885 - val_acc: 0.9898 - val_jaccard_distance: 0.0101 - val_dice_coef: 0.5954\n",
            "Epoch 20/100\n",
            "113/113 [==============================] - 45s 400ms/step - loss: 0.0174 - acc: 0.9950 - jaccard_distance: 0.0050 - dice_coef: 0.8442 - val_loss: 0.0238 - val_acc: 0.9941 - val_jaccard_distance: 0.0059 - val_dice_coef: 0.8060\n",
            "Epoch 21/100\n",
            "113/113 [==============================] - 45s 398ms/step - loss: 0.0114 - acc: 0.9958 - jaccard_distance: 0.0042 - dice_coef: 0.8713 - val_loss: 0.0041 - val_acc: 0.9971 - val_jaccard_distance: 0.0029 - val_dice_coef: 0.9162\n",
            "Epoch 22/100\n",
            "113/113 [==============================] - 45s 402ms/step - loss: 0.0057 - acc: 0.9969 - jaccard_distance: 0.0031 - dice_coef: 0.9082 - val_loss: 0.0038 - val_acc: 0.9972 - val_jaccard_distance: 0.0028 - val_dice_coef: 0.9183\n",
            "Epoch 23/100\n",
            "113/113 [==============================] - 46s 408ms/step - loss: 0.0036 - acc: 0.9975 - jaccard_distance: 0.0025 - dice_coef: 0.9259 - val_loss: 0.0019 - val_acc: 0.9980 - val_jaccard_distance: 0.0020 - val_dice_coef: 0.9427\n",
            "Epoch 24/100\n",
            "113/113 [==============================] - 44s 394ms/step - loss: 0.0027 - acc: 0.9978 - jaccard_distance: 0.0022 - dice_coef: 0.9352 - val_loss: 0.0020 - val_acc: 0.9980 - val_jaccard_distance: 0.0020 - val_dice_coef: 0.9413\n",
            "Epoch 25/100\n",
            "113/113 [==============================] - 46s 404ms/step - loss: 0.0020 - acc: 0.9981 - jaccard_distance: 0.0019 - dice_coef: 0.9433 - val_loss: 0.0017 - val_acc: 0.9981 - val_jaccard_distance: 0.0019 - val_dice_coef: 0.9456\n",
            "Epoch 26/100\n",
            "113/113 [==============================] - 45s 400ms/step - loss: 0.0027 - acc: 0.9979 - jaccard_distance: 0.0021 - dice_coef: 0.9364 - val_loss: 0.0023 - val_acc: 0.9978 - val_jaccard_distance: 0.0022 - val_dice_coef: 0.9360\n",
            "Epoch 27/100\n",
            "113/113 [==============================] - 45s 395ms/step - loss: 0.0019 - acc: 0.9981 - jaccard_distance: 0.0019 - dice_coef: 0.9440 - val_loss: 0.0017 - val_acc: 0.9981 - val_jaccard_distance: 0.0019 - val_dice_coef: 0.9457\n",
            "Epoch 28/100\n",
            "113/113 [==============================] - 45s 402ms/step - loss: 0.0019 - acc: 0.9982 - jaccard_distance: 0.0018 - dice_coef: 0.9453 - val_loss: 0.0015 - val_acc: 0.9982 - val_jaccard_distance: 0.0018 - val_dice_coef: 0.9486\n",
            "Epoch 29/100\n",
            "113/113 [==============================] - 45s 400ms/step - loss: 0.0016 - acc: 0.9983 - jaccard_distance: 0.0017 - dice_coef: 0.9493 - val_loss: 0.0016 - val_acc: 0.9982 - val_jaccard_distance: 0.0018 - val_dice_coef: 0.9478\n",
            "Epoch 30/100\n",
            "113/113 [==============================] - 45s 399ms/step - loss: 0.0019 - acc: 0.9983 - jaccard_distance: 0.0017 - dice_coef: 0.9473 - val_loss: 0.0016 - val_acc: 0.9981 - val_jaccard_distance: 0.0019 - val_dice_coef: 0.9463\n",
            "Epoch 31/100\n",
            "113/113 [==============================] - 45s 400ms/step - loss: 0.0018 - acc: 0.9982 - jaccard_distance: 0.0018 - dice_coef: 0.9466 - val_loss: 0.0099 - val_acc: 0.9964 - val_jaccard_distance: 0.0036 - val_dice_coef: 0.8880\n",
            "Epoch 32/100\n",
            "113/113 [==============================] - 46s 403ms/step - loss: 0.0020 - acc: 0.9981 - jaccard_distance: 0.0019 - dice_coef: 0.9428 - val_loss: 0.0016 - val_acc: 0.9981 - val_jaccard_distance: 0.0019 - val_dice_coef: 0.9458\n",
            "Epoch 33/100\n",
            "113/113 [==============================] - 46s 403ms/step - loss: 0.0017 - acc: 0.9983 - jaccard_distance: 0.0017 - dice_coef: 0.9485 - val_loss: 0.0016 - val_acc: 0.9982 - val_jaccard_distance: 0.0018 - val_dice_coef: 0.9473\n",
            "Epoch 34/100\n",
            "113/113 [==============================] - 45s 400ms/step - loss: 0.0012 - acc: 0.9984 - jaccard_distance: 0.0016 - dice_coef: 0.9542 - val_loss: 0.0016 - val_acc: 0.9981 - val_jaccard_distance: 0.0019 - val_dice_coef: 0.9471\n",
            "Epoch 35/100\n",
            "113/113 [==============================] - 45s 398ms/step - loss: 0.0013 - acc: 0.9984 - jaccard_distance: 0.0016 - dice_coef: 0.9535 - val_loss: 0.0016 - val_acc: 0.9981 - val_jaccard_distance: 0.0019 - val_dice_coef: 0.9472\n",
            "Epoch 36/100\n",
            "113/113 [==============================] - 46s 404ms/step - loss: 0.0013 - acc: 0.9985 - jaccard_distance: 0.0015 - dice_coef: 0.9556 - val_loss: 0.0015 - val_acc: 0.9982 - val_jaccard_distance: 0.0018 - val_dice_coef: 0.9486\n",
            "Epoch 37/100\n",
            "113/113 [==============================] - 45s 396ms/step - loss: 0.0011 - acc: 0.9985 - jaccard_distance: 0.0015 - dice_coef: 0.9566 - val_loss: 0.0020 - val_acc: 0.9980 - val_jaccard_distance: 0.0020 - val_dice_coef: 0.9439\n",
            "Epoch 38/100\n",
            "113/113 [==============================] - 46s 407ms/step - loss: 0.0013 - acc: 0.9986 - jaccard_distance: 0.0014 - dice_coef: 0.9566 - val_loss: 0.0016 - val_acc: 0.9981 - val_jaccard_distance: 0.0019 - val_dice_coef: 0.9476\n",
            "Epoch 39/100\n",
            "113/113 [==============================] - 45s 401ms/step - loss: 0.0010 - acc: 0.9986 - jaccard_distance: 0.0014 - dice_coef: 0.9580 - val_loss: 0.0040 - val_acc: 0.9975 - val_jaccard_distance: 0.0024 - val_dice_coef: 0.9293\n",
            "Epoch 40/100\n",
            "113/113 [==============================] - 45s 396ms/step - loss: 0.0010 - acc: 0.9986 - jaccard_distance: 0.0014 - dice_coef: 0.9582 - val_loss: 0.0018 - val_acc: 0.9981 - val_jaccard_distance: 0.0019 - val_dice_coef: 0.9448\n",
            "Epoch 41/100\n",
            "113/113 [==============================] - 45s 398ms/step - loss: 9.2662e-04 - acc: 0.9986 - jaccard_distance: 0.0014 - dice_coef: 0.9604 - val_loss: 0.0015 - val_acc: 0.9982 - val_jaccard_distance: 0.0018 - val_dice_coef: 0.9493\n",
            "Epoch 42/100\n",
            "113/113 [==============================] - 46s 404ms/step - loss: 8.6601e-04 - acc: 0.9987 - jaccard_distance: 0.0013 - dice_coef: 0.9613 - val_loss: 0.0015 - val_acc: 0.9982 - val_jaccard_distance: 0.0018 - val_dice_coef: 0.9489\n",
            "Epoch 43/100\n",
            "113/113 [==============================] - 45s 399ms/step - loss: 9.4347e-04 - acc: 0.9987 - jaccard_distance: 0.0013 - dice_coef: 0.9612 - val_loss: 0.0015 - val_acc: 0.9982 - val_jaccard_distance: 0.0018 - val_dice_coef: 0.9496\n",
            "Epoch 44/100\n",
            " 61/113 [===============>..............] - ETA: 19s - loss: 8.4291e-04 - acc: 0.9987 - jaccard_distance: 0.0013 - dice_coef: 0.9620Buffered data was truncated after reaching the output size limit."
          ],
          "name": "stdout"
        }
      ]
    },
    {
      "cell_type": "markdown",
      "metadata": {
        "id": "_TPgErFjN6o3"
      },
      "source": [
        "### Graphics"
      ]
    },
    {
      "cell_type": "code",
      "metadata": {
        "id": "QPXF135jJsow"
      },
      "source": [
        "plot_t(results, 'acc', figures+name_0+'_accuracy.svg')"
      ],
      "execution_count": null,
      "outputs": []
    },
    {
      "cell_type": "code",
      "metadata": {
        "id": "C_ICr1sTJ20O"
      },
      "source": [
        "plot_t(results, 'jaccard_distance', figures+name_0+'_jaccard_distance.svg')"
      ],
      "execution_count": null,
      "outputs": []
    },
    {
      "cell_type": "code",
      "metadata": {
        "id": "5PqjOpQWJ1sB"
      },
      "source": [
        "plot_t(results, 'dice_coef', figures+name_0+'_results.svg')"
      ],
      "execution_count": null,
      "outputs": []
    },
    {
      "cell_type": "code",
      "metadata": {
        "id": "tHa4sL63OAu4"
      },
      "source": [
        "y_hat=model.predict(x_test)\r\n",
        "np.shape(y_hat)"
      ],
      "execution_count": null,
      "outputs": []
    },
    {
      "cell_type": "code",
      "metadata": {
        "id": "uqS_h8exDZ_s"
      },
      "source": [
        "indi=np.random.choice(np.shape(y_hat)[0])\r\n",
        "three_plot(x_test[indi,:,:,0], y_hat[indi,:,:,0], y_test[indi,:,:,0], figures+name_0+'_results.svg')"
      ],
      "execution_count": null,
      "outputs": []
    }
  ]
}